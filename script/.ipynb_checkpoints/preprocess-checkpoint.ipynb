{
 "metadata": {
  "name": "",
  "signature": "sha256:9af21118312078281bd43d5858f26d4e297739942d960e632cc8f3c513446636"
 },
 "nbformat": 3,
 "nbformat_minor": 0,
 "worksheets": [
  {
   "cells": [
    {
     "cell_type": "code",
     "collapsed": false,
     "input": [
      "import os\n",
      "import re\n",
      "from pprint import pprint"
     ],
     "language": "python",
     "metadata": {},
     "outputs": [],
     "prompt_number": 2
    },
    {
     "cell_type": "code",
     "collapsed": false,
     "input": [
      "pattern = re.compile(r'part-*')"
     ],
     "language": "python",
     "metadata": {},
     "outputs": [],
     "prompt_number": 11
    },
    {
     "cell_type": "markdown",
     "metadata": {},
     "source": [
      "# Merge id_title, title_id Map"
     ]
    },
    {
     "cell_type": "code",
     "collapsed": false,
     "input": [
      "# merge id_title\n",
      "DIR_ID_TITLE = 'output/id_title/'\n",
      "id_title_map = dict()\n",
      "for fname in os.listdir(DIR_ID_TITLE):\n",
      "    if pattern.match(fname):\n",
      "        with open(os.path.join(DIR_ID_TITLE, fname)) as ffile:\n",
      "            for line in ffile:\n",
      "                id, title = line.split('\\t')\n",
      "                id_title_map[id] = title\n",
      "                \n",
      "pprint(id_title_map)"
     ],
     "language": "python",
     "metadata": {},
     "outputs": [
      {
       "output_type": "stream",
       "stream": "stdout",
       "text": [
        "<open file 'output/id_title/part-m-00000', mode 'r' at 0x103d3d930>\n",
        "<open file 'output/id_title/part-m-00001', mode 'r' at 0x103d3d8a0>\n",
        "<open file 'output/id_title/part-m-00002', mode 'r' at 0x103d3d930>\n",
        "<open file 'output/id_title/part-m-00003', mode 'r' at 0x103d3d8a0>\n",
        "<open file 'output/id_title/part-m-00004', mode 'r' at 0x103d3d930>\n",
        "<open file 'output/id_title/part-m-00005', mode 'r' at 0x103d3d8a0>\n",
        "<open file 'output/id_title/part-m-00006', mode 'r' at 0x103d3d930>\n"
       ]
      }
     ],
     "prompt_number": 14
    },
    {
     "cell_type": "code",
     "collapsed": false,
     "input": [],
     "language": "python",
     "metadata": {},
     "outputs": []
    }
   ],
   "metadata": {}
  }
 ]
}